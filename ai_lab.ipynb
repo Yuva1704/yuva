{
  "nbformat": 4,
  "nbformat_minor": 0,
  "metadata": {
    "colab": {
      "provenance": [],
      "authorship_tag": "ABX9TyMHapcFpcGHEmf80XjJ0lVZ",
      "include_colab_link": true
    },
    "kernelspec": {
      "name": "python3",
      "display_name": "Python 3"
    },
    "language_info": {
      "name": "python"
    }
  },
  "cells": [
    {
      "cell_type": "markdown",
      "metadata": {
        "id": "view-in-github",
        "colab_type": "text"
      },
      "source": [
        "<a href=\"https://colab.research.google.com/github/Yuva1704/yuva/blob/ai-lab/ai_lab.ipynb\" target=\"_parent\"><img src=\"https://colab.research.google.com/assets/colab-badge.svg\" alt=\"Open In Colab\"/></a>"
      ]
    },
    {
      "cell_type": "code",
      "execution_count": 5,
      "metadata": {
        "colab": {
          "base_uri": "https://localhost:8080/"
        },
        "id": "fMgJrv7KT-em",
        "outputId": "7bfae3f8-9606-42a0-b74d-51d5c6137c1d"
      },
      "outputs": [
        {
          "output_type": "stream",
          "name": "stdout",
          "text": [
            "Steps: \n",
            "0 0\n",
            "4 0\n",
            "4 3\n",
            "0 3\n",
            "3 0\n",
            "3 3\n",
            "4 2\n",
            "0 2\n"
          ]
        },
        {
          "output_type": "execute_result",
          "data": {
            "text/plain": [
              "True"
            ]
          },
          "metadata": {},
          "execution_count": 5
        }
      ],
      "source": [
        "from collections import defaultdict\n",
        "jug1, jug2, aim = 4,3,2\n",
        "visited = defaultdict(lambda: False)\n",
        "def waterJugSolver(amt1, amt2):\n",
        "\tif (amt1 == aim and amt2 == 0) or (amt2 == aim and amt1 == 0):\n",
        "\t\tprint(amt1, amt2)\n",
        "\t\treturn True\n",
        "\tif visited[(amt1, amt2)] == False:\n",
        "\t\tprint(amt1, amt2)\n",
        "\t\tvisited[(amt1, amt2)] = True\n",
        "\t\treturn (waterJugSolver(0, amt2) or\n",
        "\t\t\t\twaterJugSolver(amt1, 0) or\n",
        "\t\t\t\twaterJugSolver(jug1, amt2) or\n",
        "\t\t\t\twaterJugSolver(amt1, jug2) or\n",
        "\t\t\t\twaterJugSolver(amt1 + min(amt2, (jug1-amt1)),\n",
        "\t\t\t\tamt2 - min(amt2, (jug1-amt1))) or\n",
        "\t\t\t\twaterJugSolver(amt1 - min(amt1, (jug2-amt2)),\n",
        "\t\t\t\tamt2 + min(amt1, (jug2-amt2))))\n",
        "\telse:\n",
        "\t\treturn False\n",
        "print(\"Steps: \")\n",
        "waterJugSolver(0, 0)\n"
      ]
    },
    {
      "cell_type": "code",
      "source": [
        "import math\n",
        "def minimax (curDepth, nodeIndex,\n",
        "\t\t\tmaxTurn, scores,\n",
        "\t\t\ttargetDepth):\n",
        "\tif (curDepth == targetDepth):\n",
        "\t\treturn scores[nodeIndex]\n",
        "\tif (maxTurn):\n",
        "\t\treturn max(minimax(curDepth + 1, nodeIndex * 2,\n",
        "\t\t\t\t\tFalse, scores, targetDepth),\n",
        "\t\t\t\tminimax(curDepth + 1, nodeIndex * 2 + 1,\n",
        "\t\t\t\t\tFalse, scores, targetDepth))\n",
        "\telse:\n",
        "\t\treturn min(minimax(curDepth + 1, nodeIndex * 2,\n",
        "\t\t\t\t\tTrue, scores, targetDepth),\n",
        "\t\t\t\tminimax(curDepth + 1, nodeIndex * 2 + 1,\n",
        "\t\t\t\t\tTrue, scores, targetDepth))\n",
        "scores = [3, 5, 2, 9, 12, 5, 23, 23]\n",
        "treeDepth = math.log(len(scores), 2)\n",
        "print(\"The optimal value is : \", end = \"\")\n",
        "print(minimax(0, 0, True, scores, treeDepth))"
      ],
      "metadata": {
        "colab": {
          "base_uri": "https://localhost:8080/"
        },
        "id": "3Z4MaX5FuhW0",
        "outputId": "5f901d7c-9fab-43e3-de94-f58dcfb0672e"
      },
      "execution_count": 8,
      "outputs": [
        {
          "output_type": "stream",
          "name": "stdout",
          "text": [
            "The optimal value is : 12\n"
          ]
        }
      ]
    },
    {
      "cell_type": "code",
      "source": [
        "MAX, MIN = 1000, -1000\n",
        "def minimax(depth, nodeIndex, maximizingPlayer,\n",
        "\t\t\tvalues, alpha, beta):\n",
        "\tif depth == 3:\n",
        "\t\treturn values[nodeIndex]\n",
        "\tif maximizingPlayer:\n",
        "\t\tbest = MIN\n",
        "\t\tfor i in range(0, 2):\n",
        "\t\t\tval = minimax(depth + 1, nodeIndex * 2 + i,\n",
        "\t\t\t\t\t\tFalse, values, alpha, beta)\n",
        "\t\t\tbest = max(best, val)\n",
        "\t\t\talpha = max(alpha, best)\n",
        "\t\t\tif beta <= alpha:\n",
        "\t\t\t\tbreak\n",
        "\t\treturn best\n",
        "\telse:\n",
        "\t\tbest = MAX\n",
        "\t\tfor i in range(0, 2):\n",
        "\t\t\tval = minimax(depth + 1, nodeIndex * 2 + i,\n",
        "\t\t\t\t\t\t\tTrue, values, alpha, beta)\n",
        "\t\t\tbest = min(best, val)\n",
        "\t\t\tbeta = min(beta, best)\n",
        "\t\t\tif beta <= alpha:\n",
        "\t\t\t\tbreak\n",
        "\t\treturn best\n",
        "if __name__ == \"__main__\":\n",
        "\tvalues = [3, 5, 6, 9, 1, 2, 0, -1]\n",
        "\tprint(\"The optimal value is :\", minimax(0, 0, True, values, MIN, MAX))\n",
        "\n"
      ],
      "metadata": {
        "id": "T3fuK8wSyoW5"
      },
      "execution_count": null,
      "outputs": []
    },
    {
      "cell_type": "code",
      "source": [],
      "metadata": {
        "id": "m-NHzI3PDRpP"
      },
      "execution_count": null,
      "outputs": []
    },
    {
      "cell_type": "code",
      "source": [
        "from collections import deque\n",
        "def BFS(a, b, target):\n",
        "\tm = {}\n",
        "\tisSolvable = False\n",
        "\tpath = []\n",
        "\tq = deque()\n",
        "\tq.append((0, 0))\n",
        "\twhile (len(q) > 0):\n",
        "\t\tu = q.popleft()\n",
        "\t\tif ((u[0], u[1]) in m):\n",
        "\t\t\tcontinue\n",
        "\t\tif ((u[0] > a or u[1] > b or\n",
        "\t\t\tu[0] < 0 or u[1] < 0)):\n",
        "\t\t\tcontinue\n",
        "\t\tpath.append([u[0], u[1]])\n",
        "\t\tm[(u[0], u[1])] = 1\n",
        "\t\tif (u[0] == target or u[1] == target):\n",
        "\t\t\tisSolvable = True\n",
        "\n",
        "\t\t\tif (u[0] == target):\n",
        "\t\t\t\tif (u[1] != 0):\n",
        "\t\t\t\t\tpath.append([u[0], 0])\n",
        "\t\t\telse:\n",
        "\t\t\t\tif (u[0] != 0):\n",
        "\t\t\t\t\tpath.append([0, u[1]])\n",
        "\t\t\tsz = len(path)\n",
        "\t\t\tfor i in range(sz):\n",
        "\t\t\t\tprint(\"(\", path[i][0], \",\",\n",
        "\t\t\t\t\tpath[i][1], \")\")\n",
        "\t\t\tbreak\n",
        "\t\tq.append([u[0], b])\n",
        "\t\tq.append([a, u[1]])\n",
        "\n",
        "\t\tfor ap in range(max(a, b) + 1):\n",
        "\t\t\tc = u[0] + ap\n",
        "\t\t\td = u[1] - ap\n",
        "\t\t\tif (c == a or (d == 0 and d >= 0)):\n",
        "\t\t\t\tq.append([c, d])\n",
        "\t\t\tc = u[0] - ap\n",
        "\t\t\td = u[1] + ap\n",
        "\t\t\tif ((c == 0 and c >= 0) or d == b):\n",
        "\t\t\t\tq.append([c, d])\n",
        "\t\tq.append([a, 0])\n",
        "\t\tq.append([0, b])\n",
        "if __name__ == '__main__':\n",
        "\tJug1, Jug2, target = 4, 3, 2\n",
        "\tprint(\"Path from initial state \"\n",
        "\t\t\"to solution state ::\")\n",
        "\tBFS(Jug1, Jug2, target)"
      ],
      "metadata": {
        "colab": {
          "base_uri": "https://localhost:8080/"
        },
        "id": "gxBQX3Aynf3G",
        "outputId": "eed4c85e-b8a5-4578-ae46-e8be6744ba65"
      },
      "execution_count": 9,
      "outputs": [
        {
          "output_type": "stream",
          "name": "stdout",
          "text": [
            "Path from initial state to solution state ::\n",
            "( 0 , 0 )\n",
            "( 0 , 3 )\n",
            "( 4 , 0 )\n",
            "( 4 , 3 )\n",
            "( 3 , 0 )\n",
            "( 1 , 3 )\n",
            "( 3 , 3 )\n",
            "( 4 , 2 )\n",
            "( 0 , 2 )\n"
          ]
        }
      ]
    },
    {
      "cell_type": "code",
      "source": [
        "from simpleai.search import CspProblem, backtrack\n",
        "\n",
        "def constraint_func(names, values):\n",
        "    return values[0] != values[1]\n",
        "\n",
        "if __name__ == '__main__':\n",
        "    names = ( 'Ju', 'St', 'Am', 'Br', 'Jo', 'De', 'Al', 'Mi', 'Ke')\n",
        "    colors = {name: ['red', 'green', 'blue', 'gray'] for name in names}\n",
        "\n",
        "    constraints = [\n",
        "        (('Ju', 'St'), constraint_func),\n",
        "        (('Ju', 'Am'), constraint_func),\n",
        "        (('Ju', 'De'), constraint_func),\n",
        "        (('Ju', 'Br'), constraint_func),\n",
        "        (('St', 'Am'), constraint_func),\n",
        "        (('St', 'Al'), constraint_func),\n",
        "        (('St', 'Mi'), constraint_func),\n",
        "        (('Am', 'Mi'), constraint_func),\n",
        "        (('Am', 'Jo'), constraint_func),\n",
        "        (('Am', 'De'), constraint_func),\n",
        "        (('Br', 'De'), constraint_func),\n",
        "        (('Br', 'Ke'), constraint_func),\n",
        "        (('Jo', 'Mi'), constraint_func),\n",
        "        (('Jo', 'Am'), constraint_func),\n",
        "        (('Jo', 'De'), constraint_func),\n",
        "        (('Jo', 'Ke'), constraint_func),\n",
        "        (('De', 'Ke'), constraint_func),\n",
        "    ]\n",
        "\n",
        "    problem = CspProblem(names, colors, constraints)\n",
        "    output = backtrack(problem)\n",
        "\n",
        "    print('\\nColor mapping:\\n')\n",
        "    for k, v in output.items():\n",
        "        print(f'{k} ==> {v}')"
      ],
      "metadata": {
        "colab": {
          "base_uri": "https://localhost:8080/"
        },
        "id": "51TkHDscy9y2",
        "outputId": "9280f911-c3b9-4aee-c963-650e5069ac0c"
      },
      "execution_count": 33,
      "outputs": [
        {
          "output_type": "stream",
          "name": "stdout",
          "text": [
            "\n",
            "Color mapping:\n",
            "\n",
            "Ju ==> red\n",
            "St ==> green\n",
            "Am ==> blue\n",
            "Br ==> green\n",
            "Jo ==> red\n",
            "De ==> gray\n",
            "Al ==> red\n",
            "Mi ==> gray\n",
            "Ke ==> blue\n"
          ]
        }
      ]
    },
    {
      "cell_type": "code",
      "source": [
        "from pgmpy.models import BayesianNetwork\n",
        "from pgmpy.factors.discrete import TabularCPD\n",
        "from pgmpy.inference import VariableElimination\n",
        "\n",
        "# Define the structure of the Bayesian network\n",
        "model = BayesianNetwork([('A', 'C'), ('B', 'C')])\n",
        "\n",
        "# Define the CPDs\n",
        "cpd_a = TabularCPD(variable='A', variable_card=2, values=[[0.6], [0.4]])\n",
        "cpd_b = TabularCPD(variable='B', variable_card=2, values=[[0.7], [0.3]])\n",
        "cpd_c = TabularCPD(variable='C', variable_card=2,\n",
        "                   values=[[0.1, 0.2, 0.3, 0.4],\n",
        "                           [0.9, 0.8, 0.7, 0.6]],\n",
        "                   evidence=['A', 'B'], evidence_card=[2, 2])\n",
        "\n",
        "# Add CPDs to the model\n",
        "model.add_cpds(cpd_a, cpd_b, cpd_c)\n",
        "\n",
        "# Perform inference\n",
        "inference = VariableElimination(model)\n",
        "result = inference.query(variables=['C'], evidence={'A': 0, 'B': 1})\n",
        "print(result)\n"
      ],
      "metadata": {
        "colab": {
          "base_uri": "https://localhost:8080/"
        },
        "id": "UiJihN_C86Fw",
        "outputId": "f705ddef-65be-4b85-e6ab-d8f8419ac607"
      },
      "execution_count": 32,
      "outputs": [
        {
          "output_type": "stream",
          "name": "stdout",
          "text": [
            "+------+----------+\n",
            "| C    |   phi(C) |\n",
            "+======+==========+\n",
            "| C(0) |   0.2000 |\n",
            "+------+----------+\n",
            "| C(1) |   0.8000 |\n",
            "+------+----------+\n"
          ]
        }
      ]
    }
  ]
}